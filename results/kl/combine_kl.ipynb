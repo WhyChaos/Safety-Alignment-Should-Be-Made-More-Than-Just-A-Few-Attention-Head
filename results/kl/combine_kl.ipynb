{
 "cells": [
  {
   "cell_type": "code",
   "execution_count": 1,
   "metadata": {},
   "outputs": [],
   "source": [
    "model_name = 'Llama-2-7b-chat-dropout0.01_skip_anchor'"
   ]
  },
  {
   "cell_type": "code",
   "execution_count": 2,
   "metadata": {},
   "outputs": [],
   "source": [
    "import json\n",
    "with open(f'hex-phi/{model_name}.json', 'r', encoding='utf-8') as file:\n",
    "    harmful_kl_list = json.load(file)\n",
    "with open(f'sampled_330_alpaca_anchor/{model_name}.json', 'r', encoding='utf-8') as file:\n",
    "    helpful_kl_list = json.load(file)"
   ]
  },
  {
   "cell_type": "code",
   "execution_count": 3,
   "metadata": {},
   "outputs": [
    {
     "data": {
      "text/plain": [
       "{'component_idx': 109,\n",
       " 'component_type': 'mlp',\n",
       " 'layer_idx': 1,\n",
       " 'head_idx': 22,\n",
       " 'kl': 234.54315185546875}"
      ]
     },
     "execution_count": 3,
     "metadata": {},
     "output_type": "execute_result"
    }
   ],
   "source": [
    "helpful_kl_list[0]"
   ]
  },
  {
   "cell_type": "code",
   "execution_count": 4,
   "metadata": {},
   "outputs": [],
   "source": [
    "component_idx_to_harmful_kl_list = {}\n",
    "for harmful_kl in harmful_kl_list:\n",
    "    component_idx = harmful_kl['component_idx']\n",
    "    component_idx_to_harmful_kl_list[component_idx] = harmful_kl\n",
    "    \n",
    "component_idx_to_helpful_kl_list = {}\n",
    "for helpful_kl in helpful_kl_list:\n",
    "    component_idx = helpful_kl['component_idx']\n",
    "    component_idx_to_helpful_kl_list[component_idx] = helpful_kl"
   ]
  },
  {
   "cell_type": "code",
   "execution_count": 5,
   "metadata": {},
   "outputs": [],
   "source": [
    "harmful_sub_helpful_kl_list = []\n",
    "for component_idx, harmful_kl in component_idx_to_harmful_kl_list.items():\n",
    "    component_type = harmful_kl['component_type']\n",
    "    layer_idx = harmful_kl['layer_idx']\n",
    "    head_idx = harmful_kl['head_idx']\n",
    "    kl = harmful_kl['kl'] - component_idx_to_helpful_kl_list[component_idx]['kl']\n",
    "    harmful_sub_helpful_kl_list.append({\n",
    "        'component_idx': component_idx,\n",
    "        'component_type': component_type,\n",
    "        'layer_idx': layer_idx,\n",
    "        'head_idx': head_idx,\n",
    "        'kl': kl\n",
    "    })\n",
    "    \n",
    "harmful_sub_helpful_kl_list = sorted(harmful_sub_helpful_kl_list, key=lambda x: x['kl'], reverse=True)\n",
    "\n",
    "with open(f'combined/{model_name}.json', 'w') as json_file:\n",
    "    json.dump(harmful_sub_helpful_kl_list, json_file, indent=4, ensure_ascii=False)\n"
   ]
  }
 ],
 "metadata": {
  "kernelspec": {
   "display_name": "shallow",
   "language": "python",
   "name": "python3"
  },
  "language_info": {
   "codemirror_mode": {
    "name": "ipython",
    "version": 3
   },
   "file_extension": ".py",
   "mimetype": "text/x-python",
   "name": "python",
   "nbconvert_exporter": "python",
   "pygments_lexer": "ipython3",
   "version": "3.10.16"
  }
 },
 "nbformat": 4,
 "nbformat_minor": 2
}
