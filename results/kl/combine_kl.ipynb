{
 "cells": [
  {
   "cell_type": "code",
   "execution_count": 1,
   "metadata": {},
   "outputs": [],
   "source": [
    "model_name = 'Llama-2-7b-chat-hf'"
   ]
  },
  {
   "cell_type": "code",
   "execution_count": 2,
   "metadata": {},
   "outputs": [],
   "source": [
    "import json\n",
    "with open(f'hex-phi/{model_name}.json', 'r', encoding='utf-8') as file:\n",
    "    harmful_kl_list = json.load(file)\n",
    "with open(f'sampled_330_alpaca_anchor/{model_name}.json', 'r', encoding='utf-8') as file:\n",
    "    helpful_kl_list = json.load(file)"
   ]
  },
  {
   "cell_type": "code",
   "execution_count": 6,
   "metadata": {},
   "outputs": [
    {
     "data": {
      "text/plain": [
       "{'component_idx': 109,\n",
       " 'component_type': 'mlp',\n",
       " 'layer_idx': 1,\n",
       " 'head_idx': 22,\n",
       " 'kl': 2704.255569458008}"
      ]
     },
     "execution_count": 6,
     "metadata": {},
     "output_type": "execute_result"
    }
   ],
   "source": [
    "helpful_kl_list[0]"
   ]
  },
  {
   "cell_type": "code",
   "execution_count": null,
   "metadata": {},
   "outputs": [
    {
     "ename": "KeyError",
     "evalue": "109",
     "output_type": "error",
     "traceback": [
      "\u001b[0;31m---------------------------------------------------------------------------\u001b[0m",
      "\u001b[0;31mKeyError\u001b[0m                                  Traceback (most recent call last)",
      "Cell \u001b[0;32mIn[7], line 4\u001b[0m\n\u001b[1;32m      2\u001b[0m \u001b[38;5;28;01mfor\u001b[39;00m harmful_kl \u001b[38;5;129;01min\u001b[39;00m harmful_kl_list:\n\u001b[1;32m      3\u001b[0m     component_idx \u001b[38;5;241m=\u001b[39m harmful_kl[\u001b[38;5;124m'\u001b[39m\u001b[38;5;124mcomponent_idx\u001b[39m\u001b[38;5;124m'\u001b[39m]\n\u001b[0;32m----> 4\u001b[0m     \u001b[43mcomponent_idx_to_harmful_kl_list\u001b[49m\u001b[43m[\u001b[49m\u001b[43mcomponent_idx\u001b[49m\u001b[43m]\u001b[49m\u001b[38;5;241m.\u001b[39mappend(harmful_kl)\n\u001b[1;32m      6\u001b[0m component_idx_to_helpful_kl_list \u001b[38;5;241m=\u001b[39m {}\n\u001b[1;32m      7\u001b[0m \u001b[38;5;28;01mfor\u001b[39;00m helpful_kl \u001b[38;5;129;01min\u001b[39;00m helpful_kl_list:\n",
      "\u001b[0;31mKeyError\u001b[0m: 109"
     ]
    }
   ],
   "source": [
    "component_idx_to_harmful_kl_list = {}\n",
    "for harmful_kl in harmful_kl_list:\n",
    "    component_idx = harmful_kl['component_idx']\n",
    "    component_idx_to_harmful_kl_list[component_idx] = harmful_kl\n",
    "    \n",
    "component_idx_to_helpful_kl_list = {}\n",
    "for helpful_kl in helpful_kl_list:\n",
    "    component_idx = helpful_kl['component_idx']\n",
    "    component_idx_to_helpful_kl_list[component_idx] = helpful_kl"
   ]
  },
  {
   "cell_type": "code",
   "execution_count": null,
   "metadata": {},
   "outputs": [],
   "source": []
  }
 ],
 "metadata": {
  "kernelspec": {
   "display_name": "shallow",
   "language": "python",
   "name": "python3"
  },
  "language_info": {
   "codemirror_mode": {
    "name": "ipython",
    "version": 3
   },
   "file_extension": ".py",
   "mimetype": "text/x-python",
   "name": "python",
   "nbconvert_exporter": "python",
   "pygments_lexer": "ipython3",
   "version": "3.10.16"
  }
 },
 "nbformat": 4,
 "nbformat_minor": 2
}
